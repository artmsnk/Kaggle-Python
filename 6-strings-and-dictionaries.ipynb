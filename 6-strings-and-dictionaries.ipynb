{
 "cells": [
  {
   "cell_type": "markdown",
   "id": "6147ff5c",
   "metadata": {
    "papermill": {
     "duration": 0.044186,
     "end_time": "2021-11-11T14:28:18.225475",
     "exception": false,
     "start_time": "2021-11-11T14:28:18.181289",
     "status": "completed"
    },
    "tags": []
   },
   "source": [
    "This lesson will cover two essential Python types: **strings** and **dictionaries**."
   ]
  },
  {
   "cell_type": "markdown",
   "id": "7be4f8c5",
   "metadata": {
    "papermill": {
     "duration": 0.039759,
     "end_time": "2021-11-11T14:28:18.308469",
     "exception": false,
     "start_time": "2021-11-11T14:28:18.268710",
     "status": "completed"
    },
    "tags": []
   },
   "source": [
    "# Strings"
   ]
  },
  {
   "cell_type": "markdown",
   "id": "df272966",
   "metadata": {
    "papermill": {
     "duration": 0.039449,
     "end_time": "2021-11-11T14:28:18.388866",
     "exception": false,
     "start_time": "2021-11-11T14:28:18.349417",
     "status": "completed"
    },
    "tags": []
   },
   "source": [
    "One place where the Python language really shines is in the manipulation of strings.\n",
    "This section will cover some of Python's built-in string methods and formatting operations.\n",
    "\n",
    "Such string manipulation patterns come up often in the context of data science work.\n",
    "\n",
    "## String syntax\n",
    "\n",
    "You've already seen plenty of strings in examples during the previous lessons, but just to recap, strings in Python can be defined using either single or double quotations. They are functionally equivalent."
   ]
  },
  {
   "cell_type": "code",
   "execution_count": 1,
   "id": "2c17fc98",
   "metadata": {
    "execution": {
     "iopub.execute_input": "2021-11-11T14:28:18.473165Z",
     "iopub.status.busy": "2021-11-11T14:28:18.471771Z",
     "iopub.status.idle": "2021-11-11T14:28:18.493632Z",
     "shell.execute_reply": "2021-11-11T14:28:18.494406Z"
    },
    "papermill": {
     "duration": 0.066432,
     "end_time": "2021-11-11T14:28:18.494838",
     "exception": false,
     "start_time": "2021-11-11T14:28:18.428406",
     "status": "completed"
    },
    "tags": []
   },
   "outputs": [
    {
     "data": {
      "text/plain": [
       "True"
      ]
     },
     "execution_count": 1,
     "metadata": {},
     "output_type": "execute_result"
    }
   ],
   "source": [
    "x = 'Pluto is a planet'\n",
    "y = \"Pluto is a planet\"\n",
    "x == y"
   ]
  },
  {
   "cell_type": "markdown",
   "id": "3e05ea1d",
   "metadata": {
    "papermill": {
     "duration": 0.045283,
     "end_time": "2021-11-11T14:28:18.589843",
     "exception": false,
     "start_time": "2021-11-11T14:28:18.544560",
     "status": "completed"
    },
    "tags": []
   },
   "source": [
    "Double quotes are convenient if your string contains a single quote character (e.g. representing an apostrophe).\n",
    "\n",
    "Similarly, it's easy to create a string that contains double-quotes if you wrap it in single quotes:"
   ]
  },
  {
   "cell_type": "code",
   "execution_count": 2,
   "id": "ff457669",
   "metadata": {
    "execution": {
     "iopub.execute_input": "2021-11-11T14:28:18.680351Z",
     "iopub.status.busy": "2021-11-11T14:28:18.679488Z",
     "iopub.status.idle": "2021-11-11T14:28:18.682746Z",
     "shell.execute_reply": "2021-11-11T14:28:18.683262Z"
    },
    "papermill": {
     "duration": 0.053117,
     "end_time": "2021-11-11T14:28:18.683439",
     "exception": false,
     "start_time": "2021-11-11T14:28:18.630322",
     "status": "completed"
    },
    "tags": []
   },
   "outputs": [
    {
     "name": "stdout",
     "output_type": "stream",
     "text": [
      "Pluto's a planet!\n",
      "My dog is named \"Pluto\"\n"
     ]
    }
   ],
   "source": [
    "print(\"Pluto's a planet!\")\n",
    "print('My dog is named \"Pluto\"')"
   ]
  },
  {
   "cell_type": "markdown",
   "id": "1a4ab80c",
   "metadata": {
    "papermill": {
     "duration": 0.041092,
     "end_time": "2021-11-11T14:28:18.766409",
     "exception": false,
     "start_time": "2021-11-11T14:28:18.725317",
     "status": "completed"
    },
    "tags": []
   },
   "source": [
    "If we try to put a single quote character inside a single-quoted string, Python gets confused:"
   ]
  },
  {
   "cell_type": "code",
   "execution_count": 3,
   "id": "d09b7f77",
   "metadata": {
    "execution": {
     "iopub.execute_input": "2021-11-11T14:28:18.927058Z",
     "iopub.status.busy": "2021-11-11T14:28:18.926087Z",
     "iopub.status.idle": "2021-11-11T14:28:18.929643Z",
     "shell.execute_reply": "2021-11-11T14:28:18.930145Z"
    },
    "papermill": {
     "duration": 0.051013,
     "end_time": "2021-11-11T14:28:18.930338",
     "exception": false,
     "start_time": "2021-11-11T14:28:18.879325",
     "status": "completed"
    },
    "tags": [
     "raises-exception"
    ]
   },
   "outputs": [
    {
     "ename": "SyntaxError",
     "evalue": "invalid syntax (1561186517.py, line 1)",
     "output_type": "error",
     "traceback": [
      "\u001b[0;36m  File \u001b[0;32m\"/tmp/ipykernel_20/1561186517.py\"\u001b[0;36m, line \u001b[0;32m1\u001b[0m\n\u001b[0;31m    'Pluto's a planet!'\u001b[0m\n\u001b[0m           ^\u001b[0m\n\u001b[0;31mSyntaxError\u001b[0m\u001b[0;31m:\u001b[0m invalid syntax\n"
     ]
    }
   ],
   "source": [
    "'Pluto's a planet!'"
   ]
  },
  {
   "cell_type": "markdown",
   "id": "8e19485b",
   "metadata": {
    "papermill": {
     "duration": 0.042164,
     "end_time": "2021-11-11T14:28:19.014081",
     "exception": false,
     "start_time": "2021-11-11T14:28:18.971917",
     "status": "completed"
    },
    "tags": []
   },
   "source": [
    "We can fix this by \"escaping\" the single quote with a backslash. "
   ]
  },
  {
   "cell_type": "code",
   "execution_count": 4,
   "id": "7c1c0e3e",
   "metadata": {
    "execution": {
     "iopub.execute_input": "2021-11-11T14:28:19.101903Z",
     "iopub.status.busy": "2021-11-11T14:28:19.100898Z",
     "iopub.status.idle": "2021-11-11T14:28:19.105932Z",
     "shell.execute_reply": "2021-11-11T14:28:19.106576Z"
    },
    "papermill": {
     "duration": 0.050419,
     "end_time": "2021-11-11T14:28:19.106766",
     "exception": false,
     "start_time": "2021-11-11T14:28:19.056347",
     "status": "completed"
    },
    "tags": []
   },
   "outputs": [
    {
     "data": {
      "text/plain": [
       "\"Pluto's a planet!\""
      ]
     },
     "execution_count": 4,
     "metadata": {},
     "output_type": "execute_result"
    }
   ],
   "source": [
    "'Pluto\\'s a planet!'"
   ]
  },
  {
   "cell_type": "markdown",
   "id": "0d22f90b",
   "metadata": {
    "papermill": {
     "duration": 0.041998,
     "end_time": "2021-11-11T14:28:19.190950",
     "exception": false,
     "start_time": "2021-11-11T14:28:19.148952",
     "status": "completed"
    },
    "tags": []
   },
   "source": [
    "The table below summarizes some important uses of the backslash character.\n",
    "\n",
    "| What you type... | What you get | example               | `print(example)`             |\n",
    "|------------------|--------------|-----------------------|--------------------------------|\n",
    "| `\\'`             | `'`          | `'What\\'s up?'`         | `What's up?`                 |  \n",
    "| `\\\"`         | `\"`            | `\"That's \\\"cool\\\"\"`     | `That's \"cool\"`              |  \n",
    "| `\\\\`         | `\\`            |  `\"Look, a mountain: /\\\\\"` |  `Look, a mountain: /\\`  |\n",
    "| `\\n`        |   _new line_      |   `\"1\\n2 3\"`                       |   `1`<br/>`2 3`              |"
   ]
  },
  {
   "cell_type": "markdown",
   "id": "f458a4a5",
   "metadata": {
    "papermill": {
     "duration": 0.04448,
     "end_time": "2021-11-11T14:28:19.279585",
     "exception": false,
     "start_time": "2021-11-11T14:28:19.235105",
     "status": "completed"
    },
    "tags": []
   },
   "source": [
    "The last sequence, `\\n`, represents the *newline character*. It causes Python to start a new line."
   ]
  },
  {
   "cell_type": "code",
   "execution_count": 5,
   "id": "39563b2b",
   "metadata": {
    "execution": {
     "iopub.execute_input": "2021-11-11T14:28:19.386766Z",
     "iopub.status.busy": "2021-11-11T14:28:19.386049Z",
     "iopub.status.idle": "2021-11-11T14:28:19.390256Z",
     "shell.execute_reply": "2021-11-11T14:28:19.390859Z"
    },
    "papermill": {
     "duration": 0.060072,
     "end_time": "2021-11-11T14:28:19.391031",
     "exception": false,
     "start_time": "2021-11-11T14:28:19.330959",
     "status": "completed"
    },
    "tags": []
   },
   "outputs": [
    {
     "name": "stdout",
     "output_type": "stream",
     "text": [
      "hello\n",
      "world\n"
     ]
    }
   ],
   "source": [
    "hello = \"hello\\nworld\"\n",
    "print(hello)"
   ]
  },
  {
   "cell_type": "markdown",
   "id": "4cde723e",
   "metadata": {
    "papermill": {
     "duration": 0.041828,
     "end_time": "2021-11-11T14:28:19.475275",
     "exception": false,
     "start_time": "2021-11-11T14:28:19.433447",
     "status": "completed"
    },
    "tags": []
   },
   "source": [
    "In addition, Python's triple quote syntax for strings lets us include newlines literally (i.e. by just hitting 'Enter' on our keyboard, rather than using the special '\\n' sequence). We've already seen this in the docstrings we use to document our functions, but we can use them anywhere we want to define a string."
   ]
  },
  {
   "cell_type": "code",
   "execution_count": 6,
   "id": "586a2554",
   "metadata": {
    "execution": {
     "iopub.execute_input": "2021-11-11T14:28:19.566089Z",
     "iopub.status.busy": "2021-11-11T14:28:19.562085Z",
     "iopub.status.idle": "2021-11-11T14:28:19.569852Z",
     "shell.execute_reply": "2021-11-11T14:28:19.570364Z"
    },
    "papermill": {
     "duration": 0.05297,
     "end_time": "2021-11-11T14:28:19.570536",
     "exception": false,
     "start_time": "2021-11-11T14:28:19.517566",
     "status": "completed"
    },
    "tags": []
   },
   "outputs": [
    {
     "name": "stdout",
     "output_type": "stream",
     "text": [
      "hello\n",
      "world\n"
     ]
    },
    {
     "data": {
      "text/plain": [
       "True"
      ]
     },
     "execution_count": 6,
     "metadata": {},
     "output_type": "execute_result"
    }
   ],
   "source": [
    "triplequoted_hello = \"\"\"hello\n",
    "world\"\"\"\n",
    "print(triplequoted_hello)\n",
    "triplequoted_hello == hello"
   ]
  },
  {
   "cell_type": "markdown",
   "id": "e753711a",
   "metadata": {
    "papermill": {
     "duration": 0.042942,
     "end_time": "2021-11-11T14:28:19.656753",
     "exception": false,
     "start_time": "2021-11-11T14:28:19.613811",
     "status": "completed"
    },
    "tags": []
   },
   "source": [
    "The `print()` function automatically adds a newline character unless we specify a value for the keyword argument `end` other than the default value of `'\\n'`:"
   ]
  },
  {
   "cell_type": "code",
   "execution_count": 7,
   "id": "48d7da2e",
   "metadata": {
    "execution": {
     "iopub.execute_input": "2021-11-11T14:28:19.748573Z",
     "iopub.status.busy": "2021-11-11T14:28:19.745997Z",
     "iopub.status.idle": "2021-11-11T14:28:19.750861Z",
     "shell.execute_reply": "2021-11-11T14:28:19.751419Z"
    },
    "papermill": {
     "duration": 0.051698,
     "end_time": "2021-11-11T14:28:19.751592",
     "exception": false,
     "start_time": "2021-11-11T14:28:19.699894",
     "status": "completed"
    },
    "tags": []
   },
   "outputs": [
    {
     "name": "stdout",
     "output_type": "stream",
     "text": [
      "hello\n",
      "world\n",
      "hellopluto"
     ]
    }
   ],
   "source": [
    "print(\"hello\")\n",
    "print(\"world\")\n",
    "print(\"hello\", end='')\n",
    "print(\"pluto\", end='')"
   ]
  },
  {
   "cell_type": "markdown",
   "id": "55a983f2",
   "metadata": {
    "papermill": {
     "duration": 0.043751,
     "end_time": "2021-11-11T14:28:19.838764",
     "exception": false,
     "start_time": "2021-11-11T14:28:19.795013",
     "status": "completed"
    },
    "tags": []
   },
   "source": [
    "## Strings are sequences\n",
    "\n",
    "Strings can be thought of as sequences of characters. Almost everything we've seen that we can do to a list, we can also do to a string."
   ]
  },
  {
   "cell_type": "code",
   "execution_count": 8,
   "id": "40db32b1",
   "metadata": {
    "execution": {
     "iopub.execute_input": "2021-11-11T14:28:19.930653Z",
     "iopub.status.busy": "2021-11-11T14:28:19.928409Z",
     "iopub.status.idle": "2021-11-11T14:28:19.933864Z",
     "shell.execute_reply": "2021-11-11T14:28:19.934333Z"
    },
    "papermill": {
     "duration": 0.05217,
     "end_time": "2021-11-11T14:28:19.934510",
     "exception": false,
     "start_time": "2021-11-11T14:28:19.882340",
     "status": "completed"
    },
    "tags": []
   },
   "outputs": [
    {
     "data": {
      "text/plain": [
       "'P'"
      ]
     },
     "execution_count": 8,
     "metadata": {},
     "output_type": "execute_result"
    }
   ],
   "source": [
    "# Indexing\n",
    "planet = 'Pluto'\n",
    "planet[0]"
   ]
  },
  {
   "cell_type": "code",
   "execution_count": 9,
   "id": "84e02a0b",
   "metadata": {
    "execution": {
     "iopub.execute_input": "2021-11-11T14:28:20.026870Z",
     "iopub.status.busy": "2021-11-11T14:28:20.025866Z",
     "iopub.status.idle": "2021-11-11T14:28:20.031703Z",
     "shell.execute_reply": "2021-11-11T14:28:20.031154Z"
    },
    "papermill": {
     "duration": 0.053202,
     "end_time": "2021-11-11T14:28:20.031847",
     "exception": false,
     "start_time": "2021-11-11T14:28:19.978645",
     "status": "completed"
    },
    "tags": []
   },
   "outputs": [
    {
     "data": {
      "text/plain": [
       "'uto'"
      ]
     },
     "execution_count": 9,
     "metadata": {},
     "output_type": "execute_result"
    }
   ],
   "source": [
    "# Slicing\n",
    "planet[-3:]"
   ]
  },
  {
   "cell_type": "code",
   "execution_count": 10,
   "id": "e5b71926",
   "metadata": {
    "execution": {
     "iopub.execute_input": "2021-11-11T14:28:20.126840Z",
     "iopub.status.busy": "2021-11-11T14:28:20.126083Z",
     "iopub.status.idle": "2021-11-11T14:28:20.128725Z",
     "shell.execute_reply": "2021-11-11T14:28:20.129232Z"
    },
    "papermill": {
     "duration": 0.052461,
     "end_time": "2021-11-11T14:28:20.129401",
     "exception": false,
     "start_time": "2021-11-11T14:28:20.076940",
     "status": "completed"
    },
    "tags": []
   },
   "outputs": [
    {
     "data": {
      "text/plain": [
       "5"
      ]
     },
     "execution_count": 10,
     "metadata": {},
     "output_type": "execute_result"
    }
   ],
   "source": [
    "# How long is this string?\n",
    "len(planet)"
   ]
  },
  {
   "cell_type": "code",
   "execution_count": 11,
   "id": "b4b38fe6",
   "metadata": {
    "execution": {
     "iopub.execute_input": "2021-11-11T14:28:20.222271Z",
     "iopub.status.busy": "2021-11-11T14:28:20.221501Z",
     "iopub.status.idle": "2021-11-11T14:28:20.227040Z",
     "shell.execute_reply": "2021-11-11T14:28:20.226410Z"
    },
    "papermill": {
     "duration": 0.053019,
     "end_time": "2021-11-11T14:28:20.227180",
     "exception": false,
     "start_time": "2021-11-11T14:28:20.174161",
     "status": "completed"
    },
    "tags": []
   },
   "outputs": [
    {
     "data": {
      "text/plain": [
       "['P! ', 'l! ', 'u! ', 't! ', 'o! ']"
      ]
     },
     "execution_count": 11,
     "metadata": {},
     "output_type": "execute_result"
    }
   ],
   "source": [
    "# Yes, we can even loop over them\n",
    "[char+'! ' for char in planet]"
   ]
  },
  {
   "cell_type": "markdown",
   "id": "95131887",
   "metadata": {
    "papermill": {
     "duration": 0.045112,
     "end_time": "2021-11-11T14:28:20.318073",
     "exception": false,
     "start_time": "2021-11-11T14:28:20.272961",
     "status": "completed"
    },
    "tags": []
   },
   "source": [
    "But a major way in which they differ from lists is that they are *immutable*. We can't modify them."
   ]
  },
  {
   "cell_type": "code",
   "execution_count": 12,
   "id": "91fd77e8",
   "metadata": {
    "execution": {
     "iopub.execute_input": "2021-11-11T14:28:20.415386Z",
     "iopub.status.busy": "2021-11-11T14:28:20.414345Z",
     "iopub.status.idle": "2021-11-11T14:28:20.479227Z",
     "shell.execute_reply": "2021-11-11T14:28:20.479841Z"
    },
    "papermill": {
     "duration": 0.115589,
     "end_time": "2021-11-11T14:28:20.480023",
     "exception": false,
     "start_time": "2021-11-11T14:28:20.364434",
     "status": "completed"
    },
    "tags": [
     "raises-exception"
    ]
   },
   "outputs": [
    {
     "ename": "TypeError",
     "evalue": "'str' object does not support item assignment",
     "output_type": "error",
     "traceback": [
      "\u001b[0;31m---------------------------------------------------------------------------\u001b[0m",
      "\u001b[0;31mTypeError\u001b[0m                                 Traceback (most recent call last)",
      "\u001b[0;32m/tmp/ipykernel_20/2683731249.py\u001b[0m in \u001b[0;36m<module>\u001b[0;34m\u001b[0m\n\u001b[0;32m----> 1\u001b[0;31m \u001b[0mplanet\u001b[0m\u001b[0;34m[\u001b[0m\u001b[0;36m0\u001b[0m\u001b[0;34m]\u001b[0m \u001b[0;34m=\u001b[0m \u001b[0;34m'B'\u001b[0m\u001b[0;34m\u001b[0m\u001b[0;34m\u001b[0m\u001b[0m\n\u001b[0m\u001b[1;32m      2\u001b[0m \u001b[0;31m# planet.append doesn't work either\u001b[0m\u001b[0;34m\u001b[0m\u001b[0;34m\u001b[0m\u001b[0;34m\u001b[0m\u001b[0m\n",
      "\u001b[0;31mTypeError\u001b[0m: 'str' object does not support item assignment"
     ]
    }
   ],
   "source": [
    "planet[0] = 'B'\n",
    "# planet.append doesn't work either"
   ]
  },
  {
   "cell_type": "markdown",
   "id": "75f8b7f1",
   "metadata": {
    "papermill": {
     "duration": 0.046088,
     "end_time": "2021-11-11T14:28:20.572533",
     "exception": false,
     "start_time": "2021-11-11T14:28:20.526445",
     "status": "completed"
    },
    "tags": []
   },
   "source": [
    "## String methods\n",
    "\n",
    "Like `list`, the type `str` has lots of very useful methods. I'll show just a few examples here."
   ]
  },
  {
   "cell_type": "code",
   "execution_count": 13,
   "id": "4feb93fe",
   "metadata": {
    "execution": {
     "iopub.execute_input": "2021-11-11T14:28:20.671255Z",
     "iopub.status.busy": "2021-11-11T14:28:20.670587Z",
     "iopub.status.idle": "2021-11-11T14:28:20.672978Z",
     "shell.execute_reply": "2021-11-11T14:28:20.673525Z"
    },
    "papermill": {
     "duration": 0.053848,
     "end_time": "2021-11-11T14:28:20.673697",
     "exception": false,
     "start_time": "2021-11-11T14:28:20.619849",
     "status": "completed"
    },
    "tags": []
   },
   "outputs": [
    {
     "data": {
      "text/plain": [
       "'PLUTO IS A PLANET!'"
      ]
     },
     "execution_count": 13,
     "metadata": {},
     "output_type": "execute_result"
    }
   ],
   "source": [
    "# ALL CAPS\n",
    "claim = \"Pluto is a planet!\"\n",
    "claim.upper()"
   ]
  },
  {
   "cell_type": "code",
   "execution_count": 14,
   "id": "13dce6bc",
   "metadata": {
    "execution": {
     "iopub.execute_input": "2021-11-11T14:28:20.773959Z",
     "iopub.status.busy": "2021-11-11T14:28:20.773251Z",
     "iopub.status.idle": "2021-11-11T14:28:20.776687Z",
     "shell.execute_reply": "2021-11-11T14:28:20.776126Z"
    },
    "papermill": {
     "duration": 0.054972,
     "end_time": "2021-11-11T14:28:20.776827",
     "exception": false,
     "start_time": "2021-11-11T14:28:20.721855",
     "status": "completed"
    },
    "tags": []
   },
   "outputs": [
    {
     "data": {
      "text/plain": [
       "'pluto is a planet!'"
      ]
     },
     "execution_count": 14,
     "metadata": {},
     "output_type": "execute_result"
    }
   ],
   "source": [
    "# all lowercase\n",
    "claim.lower()"
   ]
  },
  {
   "cell_type": "code",
   "execution_count": 15,
   "id": "575d9a0c",
   "metadata": {
    "execution": {
     "iopub.execute_input": "2021-11-11T14:28:20.875489Z",
     "iopub.status.busy": "2021-11-11T14:28:20.874825Z",
     "iopub.status.idle": "2021-11-11T14:28:20.880507Z",
     "shell.execute_reply": "2021-11-11T14:28:20.879862Z"
    },
    "papermill": {
     "duration": 0.055782,
     "end_time": "2021-11-11T14:28:20.880653",
     "exception": false,
     "start_time": "2021-11-11T14:28:20.824871",
     "status": "completed"
    },
    "tags": []
   },
   "outputs": [
    {
     "data": {
      "text/plain": [
       "11"
      ]
     },
     "execution_count": 15,
     "metadata": {},
     "output_type": "execute_result"
    }
   ],
   "source": [
    "# Searching for the first index of a substring\n",
    "claim.index('plan')"
   ]
  },
  {
   "cell_type": "code",
   "execution_count": 16,
   "id": "0a1ee571",
   "metadata": {
    "execution": {
     "iopub.execute_input": "2021-11-11T14:28:20.979444Z",
     "iopub.status.busy": "2021-11-11T14:28:20.978796Z",
     "iopub.status.idle": "2021-11-11T14:28:20.983950Z",
     "shell.execute_reply": "2021-11-11T14:28:20.984410Z"
    },
    "papermill": {
     "duration": 0.056328,
     "end_time": "2021-11-11T14:28:20.984581",
     "exception": false,
     "start_time": "2021-11-11T14:28:20.928253",
     "status": "completed"
    },
    "tags": []
   },
   "outputs": [
    {
     "data": {
      "text/plain": [
       "True"
      ]
     },
     "execution_count": 16,
     "metadata": {},
     "output_type": "execute_result"
    }
   ],
   "source": [
    "claim.startswith(planet)"
   ]
  },
  {
   "cell_type": "code",
   "execution_count": 17,
   "id": "f2ff0b8d",
   "metadata": {
    "execution": {
     "iopub.execute_input": "2021-11-11T14:28:21.085694Z",
     "iopub.status.busy": "2021-11-11T14:28:21.084955Z",
     "iopub.status.idle": "2021-11-11T14:28:21.090972Z",
     "shell.execute_reply": "2021-11-11T14:28:21.091531Z"
    },
    "papermill": {
     "duration": 0.057579,
     "end_time": "2021-11-11T14:28:21.091719",
     "exception": false,
     "start_time": "2021-11-11T14:28:21.034140",
     "status": "completed"
    },
    "tags": []
   },
   "outputs": [
    {
     "data": {
      "text/plain": [
       "False"
      ]
     },
     "execution_count": 17,
     "metadata": {},
     "output_type": "execute_result"
    }
   ],
   "source": [
    "# false because of missing exclamation mark\n",
    "claim.endswith('planet')"
   ]
  },
  {
   "cell_type": "markdown",
   "id": "4a811268",
   "metadata": {
    "papermill": {
     "duration": 0.0483,
     "end_time": "2021-11-11T14:28:21.188745",
     "exception": false,
     "start_time": "2021-11-11T14:28:21.140445",
     "status": "completed"
    },
    "tags": []
   },
   "source": [
    "### Going between strings and lists: `.split()` and `.join()`\n",
    "\n",
    "`str.split()` turns a string into a list of smaller strings, breaking on whitespace by default. This is super useful for taking you from one big string to a list of words."
   ]
  },
  {
   "cell_type": "code",
   "execution_count": 18,
   "id": "61b64252",
   "metadata": {
    "execution": {
     "iopub.execute_input": "2021-11-11T14:28:21.289552Z",
     "iopub.status.busy": "2021-11-11T14:28:21.288527Z",
     "iopub.status.idle": "2021-11-11T14:28:21.294278Z",
     "shell.execute_reply": "2021-11-11T14:28:21.295015Z"
    },
    "papermill": {
     "duration": 0.057933,
     "end_time": "2021-11-11T14:28:21.295232",
     "exception": false,
     "start_time": "2021-11-11T14:28:21.237299",
     "status": "completed"
    },
    "tags": []
   },
   "outputs": [
    {
     "data": {
      "text/plain": [
       "['Pluto', 'is', 'a', 'planet!']"
      ]
     },
     "execution_count": 18,
     "metadata": {},
     "output_type": "execute_result"
    }
   ],
   "source": [
    "words = claim.split()\n",
    "words"
   ]
  },
  {
   "cell_type": "markdown",
   "id": "687aa243",
   "metadata": {
    "papermill": {
     "duration": 0.05029,
     "end_time": "2021-11-11T14:28:21.394596",
     "exception": false,
     "start_time": "2021-11-11T14:28:21.344306",
     "status": "completed"
    },
    "tags": []
   },
   "source": [
    "Occasionally you'll want to split on something other than whitespace:"
   ]
  },
  {
   "cell_type": "code",
   "execution_count": 19,
   "id": "55a121d3",
   "metadata": {
    "collapsed": true,
    "execution": {
     "iopub.execute_input": "2021-11-11T14:28:21.498127Z",
     "iopub.status.busy": "2021-11-11T14:28:21.497441Z",
     "iopub.status.idle": "2021-11-11T14:28:21.500480Z",
     "shell.execute_reply": "2021-11-11T14:28:21.499941Z"
    },
    "jupyter": {
     "outputs_hidden": true
    },
    "papermill": {
     "duration": 0.056549,
     "end_time": "2021-11-11T14:28:21.500668",
     "exception": false,
     "start_time": "2021-11-11T14:28:21.444119",
     "status": "completed"
    },
    "tags": []
   },
   "outputs": [],
   "source": [
    "datestr = '1956-01-31'\n",
    "year, month, day = datestr.split('-')"
   ]
  },
  {
   "cell_type": "markdown",
   "id": "67c4e80d",
   "metadata": {
    "papermill": {
     "duration": 0.050543,
     "end_time": "2021-11-11T14:28:21.601393",
     "exception": false,
     "start_time": "2021-11-11T14:28:21.550850",
     "status": "completed"
    },
    "tags": []
   },
   "source": [
    "`str.join()` takes us in the other direction, sewing a list of strings up into one long string, using the string it was called on as a separator."
   ]
  },
  {
   "cell_type": "code",
   "execution_count": 20,
   "id": "b5ec2d25",
   "metadata": {
    "execution": {
     "iopub.execute_input": "2021-11-11T14:28:21.704955Z",
     "iopub.status.busy": "2021-11-11T14:28:21.704238Z",
     "iopub.status.idle": "2021-11-11T14:28:21.706692Z",
     "shell.execute_reply": "2021-11-11T14:28:21.707307Z"
    },
    "papermill": {
     "duration": 0.057004,
     "end_time": "2021-11-11T14:28:21.707477",
     "exception": false,
     "start_time": "2021-11-11T14:28:21.650473",
     "status": "completed"
    },
    "tags": []
   },
   "outputs": [
    {
     "data": {
      "text/plain": [
       "'01/31/1956'"
      ]
     },
     "execution_count": 20,
     "metadata": {},
     "output_type": "execute_result"
    }
   ],
   "source": [
    "'/'.join([month, day, year])"
   ]
  },
  {
   "cell_type": "code",
   "execution_count": 21,
   "id": "6dc75103",
   "metadata": {
    "execution": {
     "iopub.execute_input": "2021-11-11T14:28:21.814515Z",
     "iopub.status.busy": "2021-11-11T14:28:21.813660Z",
     "iopub.status.idle": "2021-11-11T14:28:21.819855Z",
     "shell.execute_reply": "2021-11-11T14:28:21.819333Z"
    },
    "papermill": {
     "duration": 0.061719,
     "end_time": "2021-11-11T14:28:21.819997",
     "exception": false,
     "start_time": "2021-11-11T14:28:21.758278",
     "status": "completed"
    },
    "tags": []
   },
   "outputs": [
    {
     "data": {
      "text/plain": [
       "'PLUTO 👏 IS 👏 A 👏 PLANET!'"
      ]
     },
     "execution_count": 21,
     "metadata": {},
     "output_type": "execute_result"
    }
   ],
   "source": [
    "# Yes, we can put unicode characters right in our string literals :)\n",
    "' 👏 '.join([word.upper() for word in words])"
   ]
  },
  {
   "cell_type": "markdown",
   "id": "85d11664-275f-4d88-ab59-8e63dbf210ca",
   "metadata": {},
   "source": [
    "### Building strings with %-operator\n",
    "\n",
    "The string formatting operator `%` is considered outdated but is still used and supported. This style of string formatting is called printf-style formatting.\n",
    "\n",
    "The main downsides in comparison with other methods are low readability and inability to format arguments out of order. "
   ]
  },
  {
   "cell_type": "code",
   "execution_count": 33,
   "id": "794e8203-be28-4ab3-a408-f4d1cf6c1ea4",
   "metadata": {},
   "outputs": [
    {
     "data": {
      "text/plain": [
       "'1234 3.14 3'"
      ]
     },
     "execution_count": 33,
     "metadata": {},
     "output_type": "execute_result"
    }
   ],
   "source": [
    "'%s %0.2f %d' % ('1234', 3.141592654, 3.14159)"
   ]
  },
  {
   "cell_type": "markdown",
   "id": "d2689336",
   "metadata": {
    "papermill": {
     "duration": 0.049606,
     "end_time": "2021-11-11T14:28:21.921525",
     "exception": false,
     "start_time": "2021-11-11T14:28:21.871919",
     "status": "completed"
    },
    "tags": []
   },
   "source": [
    "### Building strings with `.format()`\n",
    "\n",
    "Python lets us concatenate strings with the `+` operator."
   ]
  },
  {
   "cell_type": "code",
   "execution_count": 22,
   "id": "0a0a8318",
   "metadata": {
    "execution": {
     "iopub.execute_input": "2021-11-11T14:28:22.026042Z",
     "iopub.status.busy": "2021-11-11T14:28:22.025246Z",
     "iopub.status.idle": "2021-11-11T14:28:22.030071Z",
     "shell.execute_reply": "2021-11-11T14:28:22.030704Z"
    },
    "papermill": {
     "duration": 0.059561,
     "end_time": "2021-11-11T14:28:22.030895",
     "exception": false,
     "start_time": "2021-11-11T14:28:21.971334",
     "status": "completed"
    },
    "tags": []
   },
   "outputs": [
    {
     "data": {
      "text/plain": [
       "'Pluto, we miss you.'"
      ]
     },
     "execution_count": 22,
     "metadata": {},
     "output_type": "execute_result"
    }
   ],
   "source": [
    "planet + ', we miss you.'"
   ]
  },
  {
   "cell_type": "markdown",
   "id": "02ed999f",
   "metadata": {
    "papermill": {
     "duration": 0.053516,
     "end_time": "2021-11-11T14:28:22.138143",
     "exception": false,
     "start_time": "2021-11-11T14:28:22.084627",
     "status": "completed"
    },
    "tags": []
   },
   "source": [
    "If we want to throw in any non-string objects, we have to be careful to call `str()` on them first"
   ]
  },
  {
   "cell_type": "code",
   "execution_count": 23,
   "id": "9d4e4178",
   "metadata": {
    "execution": {
     "iopub.execute_input": "2021-11-11T14:28:22.245306Z",
     "iopub.status.busy": "2021-11-11T14:28:22.244304Z",
     "iopub.status.idle": "2021-11-11T14:28:22.258849Z",
     "shell.execute_reply": "2021-11-11T14:28:22.259520Z"
    },
    "papermill": {
     "duration": 0.069789,
     "end_time": "2021-11-11T14:28:22.259736",
     "exception": false,
     "start_time": "2021-11-11T14:28:22.189947",
     "status": "completed"
    },
    "tags": [
     "raises-exception"
    ]
   },
   "outputs": [
    {
     "ename": "TypeError",
     "evalue": "can only concatenate str (not \"int\") to str",
     "output_type": "error",
     "traceback": [
      "\u001b[0;31m---------------------------------------------------------------------------\u001b[0m",
      "\u001b[0;31mTypeError\u001b[0m                                 Traceback (most recent call last)",
      "\u001b[0;32m/tmp/ipykernel_20/1802981568.py\u001b[0m in \u001b[0;36m<module>\u001b[0;34m\u001b[0m\n\u001b[1;32m      1\u001b[0m \u001b[0mposition\u001b[0m \u001b[0;34m=\u001b[0m \u001b[0;36m9\u001b[0m\u001b[0;34m\u001b[0m\u001b[0;34m\u001b[0m\u001b[0m\n\u001b[0;32m----> 2\u001b[0;31m \u001b[0mplanet\u001b[0m \u001b[0;34m+\u001b[0m \u001b[0;34m\", you'll always be the \"\u001b[0m \u001b[0;34m+\u001b[0m \u001b[0mposition\u001b[0m \u001b[0;34m+\u001b[0m \u001b[0;34m\"th planet to me.\"\u001b[0m\u001b[0;34m\u001b[0m\u001b[0;34m\u001b[0m\u001b[0m\n\u001b[0m",
      "\u001b[0;31mTypeError\u001b[0m: can only concatenate str (not \"int\") to str"
     ]
    }
   ],
   "source": [
    "position = 9\n",
    "planet + \", you'll always be the \" + position + \"th planet to me.\""
   ]
  },
  {
   "cell_type": "code",
   "execution_count": 24,
   "id": "8f5ce02e",
   "metadata": {
    "execution": {
     "iopub.execute_input": "2021-11-11T14:28:22.369750Z",
     "iopub.status.busy": "2021-11-11T14:28:22.368908Z",
     "iopub.status.idle": "2021-11-11T14:28:22.373016Z",
     "shell.execute_reply": "2021-11-11T14:28:22.372377Z"
    },
    "papermill": {
     "duration": 0.062193,
     "end_time": "2021-11-11T14:28:22.373169",
     "exception": false,
     "start_time": "2021-11-11T14:28:22.310976",
     "status": "completed"
    },
    "tags": []
   },
   "outputs": [
    {
     "data": {
      "text/plain": [
       "\"Pluto, you'll always be the 9th planet to me.\""
      ]
     },
     "execution_count": 24,
     "metadata": {},
     "output_type": "execute_result"
    }
   ],
   "source": [
    "planet + \", you'll always be the \" + str(position) + \"th planet to me.\""
   ]
  },
  {
   "cell_type": "markdown",
   "id": "0a09637a",
   "metadata": {
    "papermill": {
     "duration": 0.051988,
     "end_time": "2021-11-11T14:28:22.477772",
     "exception": false,
     "start_time": "2021-11-11T14:28:22.425784",
     "status": "completed"
    },
    "tags": []
   },
   "source": [
    "This is getting hard to read and annoying to type. `str.format()` to the rescue."
   ]
  },
  {
   "cell_type": "code",
   "execution_count": 25,
   "id": "d4438b02",
   "metadata": {
    "execution": {
     "iopub.execute_input": "2021-11-11T14:28:22.587489Z",
     "iopub.status.busy": "2021-11-11T14:28:22.586635Z",
     "iopub.status.idle": "2021-11-11T14:28:22.589811Z",
     "shell.execute_reply": "2021-11-11T14:28:22.590346Z"
    },
    "papermill": {
     "duration": 0.061338,
     "end_time": "2021-11-11T14:28:22.590525",
     "exception": false,
     "start_time": "2021-11-11T14:28:22.529187",
     "status": "completed"
    },
    "tags": []
   },
   "outputs": [
    {
     "data": {
      "text/plain": [
       "\"Pluto, you'll always be the 9th planet to me.\""
      ]
     },
     "execution_count": 25,
     "metadata": {},
     "output_type": "execute_result"
    }
   ],
   "source": [
    "\"{}, you'll always be the {}th planet to me.\".format(planet, position)"
   ]
  },
  {
   "cell_type": "markdown",
   "id": "46e5bdf1",
   "metadata": {
    "papermill": {
     "duration": 0.052005,
     "end_time": "2021-11-11T14:28:22.695634",
     "exception": false,
     "start_time": "2021-11-11T14:28:22.643629",
     "status": "completed"
    },
    "tags": []
   },
   "source": [
    "So much cleaner! We call `.format()` on a \"format string\", where the Python values we want to insert are represented with `{}` placeholders.\n",
    "\n",
    "Notice how we didn't even have to call `str()` to convert `position` from an int. `format()` takes care of that for us.\n",
    "\n",
    "If that was all that `format()` did, it would still be incredibly useful. But as it turns out, it can do a *lot* more. Here's just a taste:"
   ]
  },
  {
   "cell_type": "code",
   "execution_count": 26,
   "id": "c757d9f3",
   "metadata": {
    "execution": {
     "iopub.execute_input": "2021-11-11T14:28:22.807580Z",
     "iopub.status.busy": "2021-11-11T14:28:22.806698Z",
     "iopub.status.idle": "2021-11-11T14:28:22.810691Z",
     "shell.execute_reply": "2021-11-11T14:28:22.810023Z"
    },
    "papermill": {
     "duration": 0.063477,
     "end_time": "2021-11-11T14:28:22.810833",
     "exception": false,
     "start_time": "2021-11-11T14:28:22.747356",
     "status": "completed"
    },
    "tags": []
   },
   "outputs": [
    {
     "data": {
      "text/plain": [
       "\"Pluto weighs about 1.3e+22 kilograms (0.218% of Earth's mass). It is home to 52,910,390 Plutonians.\""
      ]
     },
     "execution_count": 26,
     "metadata": {},
     "output_type": "execute_result"
    }
   ],
   "source": [
    "pluto_mass = 1.303 * 10**22\n",
    "earth_mass = 5.9722 * 10**24\n",
    "population = 52910390\n",
    "#         2 decimal points   3 decimal points, format as percent     separate with commas\n",
    "\"{} weighs about {:.2} kilograms ({:.3%} of Earth's mass). It is home to {:,} Plutonians.\".format(\n",
    "    planet, pluto_mass, pluto_mass / earth_mass, population,\n",
    ")"
   ]
  },
  {
   "cell_type": "code",
   "execution_count": 34,
   "id": "340c34a2",
   "metadata": {
    "papermill": {
     "duration": 0.060287,
     "end_time": "2021-11-11T14:28:22.923766",
     "exception": false,
     "start_time": "2021-11-11T14:28:22.863479",
     "status": "completed"
    },
    "tags": []
   },
   "outputs": [
    {
     "name": "stdout",
     "output_type": "stream",
     "text": [
      "Pluto's a planet.\n",
      "No, it's a dwarf planet.\n",
      "dwarf planet!\n",
      "planet!\n"
     ]
    }
   ],
   "source": [
    "# Referring to format() arguments by index, starting from 0\n",
    "s = \"\"\"Pluto's a {0}.\n",
    "No, it's a {1}.\n",
    "{1}!\n",
    "{0}!\"\"\".format('planet', 'dwarf planet')\n",
    "print(s)"
   ]
  },
  {
   "cell_type": "markdown",
   "id": "b442f59a-94ec-4d30-8612-b5182cd6e135",
   "metadata": {},
   "source": [
    "Format specification also allows to access arguments out of order (which is important for the internationalization), access nested structures and use named arguments."
   ]
  },
  {
   "cell_type": "code",
   "execution_count": 44,
   "id": "9a74b046-a5f0-4a74-8790-4f464f804c18",
   "metadata": {},
   "outputs": [
    {
     "data": {
      "text/plain": [
       "'All items: [1, 2, 3], items[0]: 1, append: <built-in method append of list object at 0x106498940>. One = 1'"
      ]
     },
     "execution_count": 44,
     "metadata": {},
     "output_type": "execute_result"
    }
   ],
   "source": [
    "items = [1, 2, 3]\n",
    "mapping = {'one': 1, 'two': 2}\n",
    "'All items: {items}, items[0]: {items[0]}, append: {items.append}. One = {mapping[one]}'.format(items=items, mapping=mapping)"
   ]
  },
  {
   "cell_type": "markdown",
   "id": "638546b9",
   "metadata": {
    "papermill": {
     "duration": 0.053186,
     "end_time": "2021-11-11T14:28:23.030703",
     "exception": false,
     "start_time": "2021-11-11T14:28:22.977517",
     "status": "completed"
    },
    "tags": []
   },
   "source": [
    "You could probably write a short book just on `str.format`, so I'll stop here, and point you to [pyformat.info](https://pyformat.info/) and [the official docs](https://docs.python.org/3/library/string.html#formatstrings) for further reading."
   ]
  },
  {
   "cell_type": "markdown",
   "id": "9903d234-e8b8-4e2b-8d69-73338c73c729",
   "metadata": {},
   "source": [
    "### f-strings\n",
    "\n",
    "String interpolation also known as f-strings or formatted string literals allows using any python expression inside the string.\n",
    "\n",
    "Formatted string literals are supported in python 3.6+."
   ]
  },
  {
   "cell_type": "code",
   "execution_count": 47,
   "id": "cc4a165a-8ef2-4a30-a974-81a58f01f4bb",
   "metadata": {},
   "outputs": [
    {
     "data": {
      "text/plain": [
       "'All items: [1, 2, 3], items[0]: 1, len: 3'"
      ]
     },
     "execution_count": 47,
     "metadata": {},
     "output_type": "execute_result"
    }
   ],
   "source": [
    "f'All items: {items}, items[0]: {items[0]}, len: {len(items)}'"
   ]
  },
  {
   "cell_type": "markdown",
   "id": "ce9bdea5-d031-481a-ae3f-2817670cc248",
   "metadata": {},
   "source": [
    "A special support for printing values together with variable name (or the whole expression) was added in python 3.8."
   ]
  },
  {
   "cell_type": "code",
   "execution_count": 48,
   "id": "19f7f112-2774-45c8-85e6-7d3f78f83ae3",
   "metadata": {},
   "outputs": [
    {
     "data": {
      "text/plain": [
       "'items=[1, 2, 3], len(items)=3'"
      ]
     },
     "execution_count": 48,
     "metadata": {},
     "output_type": "execute_result"
    }
   ],
   "source": [
    "f'{items=}, {len(items)=}'"
   ]
  },
  {
   "cell_type": "markdown",
   "id": "7e286cca",
   "metadata": {
    "papermill": {
     "duration": 0.052657,
     "end_time": "2021-11-11T14:28:23.136274",
     "exception": false,
     "start_time": "2021-11-11T14:28:23.083617",
     "status": "completed"
    },
    "tags": []
   },
   "source": [
    "# Dictionaries\n",
    "\n",
    "Dictionaries are a built-in Python data structure for mapping keys to values."
   ]
  },
  {
   "cell_type": "code",
   "execution_count": 28,
   "id": "994f32cc",
   "metadata": {
    "collapsed": true,
    "execution": {
     "iopub.execute_input": "2021-11-11T14:28:23.245532Z",
     "iopub.status.busy": "2021-11-11T14:28:23.244850Z",
     "iopub.status.idle": "2021-11-11T14:28:23.248889Z",
     "shell.execute_reply": "2021-11-11T14:28:23.249709Z"
    },
    "jupyter": {
     "outputs_hidden": true
    },
    "papermill": {
     "duration": 0.060907,
     "end_time": "2021-11-11T14:28:23.249896",
     "exception": false,
     "start_time": "2021-11-11T14:28:23.188989",
     "status": "completed"
    },
    "tags": []
   },
   "outputs": [],
   "source": [
    "numbers = {'one':1, 'two':2, 'three':3}"
   ]
  },
  {
   "cell_type": "markdown",
   "id": "1c641907",
   "metadata": {
    "papermill": {
     "duration": 0.052678,
     "end_time": "2021-11-11T14:28:23.355991",
     "exception": false,
     "start_time": "2021-11-11T14:28:23.303313",
     "status": "completed"
    },
    "tags": []
   },
   "source": [
    "In this case `'one'`, `'two'`, and `'three'` are the **keys**, and 1, 2 and 3 are their corresponding values.\n",
    "\n",
    "Values are accessed via square bracket syntax similar to indexing into lists and strings."
   ]
  },
  {
   "cell_type": "code",
   "execution_count": 29,
   "id": "6f2eb9f1",
   "metadata": {
    "execution": {
     "iopub.execute_input": "2021-11-11T14:28:23.468880Z",
     "iopub.status.busy": "2021-11-11T14:28:23.468067Z",
     "iopub.status.idle": "2021-11-11T14:28:23.471272Z",
     "shell.execute_reply": "2021-11-11T14:28:23.471761Z"
    },
    "papermill": {
     "duration": 0.062028,
     "end_time": "2021-11-11T14:28:23.471932",
     "exception": false,
     "start_time": "2021-11-11T14:28:23.409904",
     "status": "completed"
    },
    "tags": []
   },
   "outputs": [
    {
     "data": {
      "text/plain": [
       "1"
      ]
     },
     "execution_count": 29,
     "metadata": {},
     "output_type": "execute_result"
    }
   ],
   "source": [
    "numbers['one']"
   ]
  },
  {
   "cell_type": "markdown",
   "id": "2f414cef",
   "metadata": {
    "papermill": {
     "duration": 0.053153,
     "end_time": "2021-11-11T14:28:23.578609",
     "exception": false,
     "start_time": "2021-11-11T14:28:23.525456",
     "status": "completed"
    },
    "tags": []
   },
   "source": [
    "We can use the same syntax to add another key, value pair"
   ]
  },
  {
   "cell_type": "code",
   "execution_count": 30,
   "id": "098e105c",
   "metadata": {
    "execution": {
     "iopub.execute_input": "2021-11-11T14:28:23.689497Z",
     "iopub.status.busy": "2021-11-11T14:28:23.688505Z",
     "iopub.status.idle": "2021-11-11T14:28:23.694107Z",
     "shell.execute_reply": "2021-11-11T14:28:23.694725Z"
    },
    "papermill": {
     "duration": 0.062812,
     "end_time": "2021-11-11T14:28:23.694894",
     "exception": false,
     "start_time": "2021-11-11T14:28:23.632082",
     "status": "completed"
    },
    "tags": []
   },
   "outputs": [
    {
     "data": {
      "text/plain": [
       "{'one': 1, 'two': 2, 'three': 3, 'eleven': 11}"
      ]
     },
     "execution_count": 30,
     "metadata": {},
     "output_type": "execute_result"
    }
   ],
   "source": [
    "numbers['eleven'] = 11\n",
    "numbers"
   ]
  },
  {
   "cell_type": "markdown",
   "id": "321047df",
   "metadata": {
    "papermill": {
     "duration": 0.053355,
     "end_time": "2021-11-11T14:28:23.802180",
     "exception": false,
     "start_time": "2021-11-11T14:28:23.748825",
     "status": "completed"
    },
    "tags": []
   },
   "source": [
    "Or to change the value associated with an existing key"
   ]
  },
  {
   "cell_type": "code",
   "execution_count": 31,
   "id": "b6f26e13",
   "metadata": {
    "execution": {
     "iopub.execute_input": "2021-11-11T14:28:23.915038Z",
     "iopub.status.busy": "2021-11-11T14:28:23.914018Z",
     "iopub.status.idle": "2021-11-11T14:28:23.920177Z",
     "shell.execute_reply": "2021-11-11T14:28:23.919683Z"
    },
    "papermill": {
     "duration": 0.063622,
     "end_time": "2021-11-11T14:28:23.920337",
     "exception": false,
     "start_time": "2021-11-11T14:28:23.856715",
     "status": "completed"
    },
    "tags": []
   },
   "outputs": [
    {
     "data": {
      "text/plain": [
       "{'one': 'Pluto', 'two': 2, 'three': 3, 'eleven': 11}"
      ]
     },
     "execution_count": 31,
     "metadata": {},
     "output_type": "execute_result"
    }
   ],
   "source": [
    "numbers['one'] = 'Pluto'\n",
    "numbers"
   ]
  },
  {
   "cell_type": "markdown",
   "id": "c1ddd30e",
   "metadata": {
    "papermill": {
     "duration": 0.055173,
     "end_time": "2021-11-11T14:28:24.030262",
     "exception": false,
     "start_time": "2021-11-11T14:28:23.975089",
     "status": "completed"
    },
    "tags": []
   },
   "source": [
    "Python has *dictionary comprehensions* with a syntax similar to the list comprehensions we saw in the previous tutorial."
   ]
  },
  {
   "cell_type": "code",
   "execution_count": 32,
   "id": "049fee32",
   "metadata": {
    "execution": {
     "iopub.execute_input": "2021-11-11T14:28:24.147269Z",
     "iopub.status.busy": "2021-11-11T14:28:24.146565Z",
     "iopub.status.idle": "2021-11-11T14:28:24.149132Z",
     "shell.execute_reply": "2021-11-11T14:28:24.149645Z"
    },
    "papermill": {
     "duration": 0.064541,
     "end_time": "2021-11-11T14:28:24.149819",
     "exception": false,
     "start_time": "2021-11-11T14:28:24.085278",
     "status": "completed"
    },
    "tags": []
   },
   "outputs": [
    {
     "data": {
      "text/plain": [
       "{'Mercury': 'M',\n",
       " 'Venus': 'V',\n",
       " 'Earth': 'E',\n",
       " 'Mars': 'M',\n",
       " 'Jupiter': 'J',\n",
       " 'Saturn': 'S',\n",
       " 'Uranus': 'U',\n",
       " 'Neptune': 'N'}"
      ]
     },
     "execution_count": 32,
     "metadata": {},
     "output_type": "execute_result"
    }
   ],
   "source": [
    "planets = ['Mercury', 'Venus', 'Earth', 'Mars', 'Jupiter', 'Saturn', 'Uranus', 'Neptune']\n",
    "planet_to_initial = {planet: planet[0] for planet in planets}\n",
    "planet_to_initial"
   ]
  },
  {
   "cell_type": "markdown",
   "id": "e1793e0e",
   "metadata": {
    "papermill": {
     "duration": 0.054552,
     "end_time": "2021-11-11T14:28:24.259332",
     "exception": false,
     "start_time": "2021-11-11T14:28:24.204780",
     "status": "completed"
    },
    "tags": []
   },
   "source": [
    "The `in` operator tells us whether something is a key in the dictionary"
   ]
  },
  {
   "cell_type": "code",
   "execution_count": 33,
   "id": "2c6413b6",
   "metadata": {
    "execution": {
     "iopub.execute_input": "2021-11-11T14:28:24.374405Z",
     "iopub.status.busy": "2021-11-11T14:28:24.373645Z",
     "iopub.status.idle": "2021-11-11T14:28:24.376416Z",
     "shell.execute_reply": "2021-11-11T14:28:24.377125Z"
    },
    "papermill": {
     "duration": 0.063342,
     "end_time": "2021-11-11T14:28:24.377390",
     "exception": false,
     "start_time": "2021-11-11T14:28:24.314048",
     "status": "completed"
    },
    "tags": []
   },
   "outputs": [
    {
     "data": {
      "text/plain": [
       "True"
      ]
     },
     "execution_count": 33,
     "metadata": {},
     "output_type": "execute_result"
    }
   ],
   "source": [
    "'Saturn' in planet_to_initial"
   ]
  },
  {
   "cell_type": "code",
   "execution_count": 34,
   "id": "d6daa109",
   "metadata": {
    "execution": {
     "iopub.execute_input": "2021-11-11T14:28:24.494395Z",
     "iopub.status.busy": "2021-11-11T14:28:24.493656Z",
     "iopub.status.idle": "2021-11-11T14:28:24.498054Z",
     "shell.execute_reply": "2021-11-11T14:28:24.498539Z"
    },
    "papermill": {
     "duration": 0.064117,
     "end_time": "2021-11-11T14:28:24.498719",
     "exception": false,
     "start_time": "2021-11-11T14:28:24.434602",
     "status": "completed"
    },
    "tags": []
   },
   "outputs": [
    {
     "data": {
      "text/plain": [
       "False"
      ]
     },
     "execution_count": 34,
     "metadata": {},
     "output_type": "execute_result"
    }
   ],
   "source": [
    "'Betelgeuse' in planet_to_initial"
   ]
  },
  {
   "cell_type": "markdown",
   "id": "33288089",
   "metadata": {
    "papermill": {
     "duration": 0.055756,
     "end_time": "2021-11-11T14:28:24.610697",
     "exception": false,
     "start_time": "2021-11-11T14:28:24.554941",
     "status": "completed"
    },
    "tags": []
   },
   "source": [
    "A for loop over a dictionary will loop over its keys"
   ]
  },
  {
   "cell_type": "code",
   "execution_count": 35,
   "id": "8bf68249",
   "metadata": {
    "execution": {
     "iopub.execute_input": "2021-11-11T14:28:24.727941Z",
     "iopub.status.busy": "2021-11-11T14:28:24.727056Z",
     "iopub.status.idle": "2021-11-11T14:28:24.731142Z",
     "shell.execute_reply": "2021-11-11T14:28:24.730564Z"
    },
    "papermill": {
     "duration": 0.064781,
     "end_time": "2021-11-11T14:28:24.731322",
     "exception": false,
     "start_time": "2021-11-11T14:28:24.666541",
     "status": "completed"
    },
    "tags": []
   },
   "outputs": [
    {
     "name": "stdout",
     "output_type": "stream",
     "text": [
      "one = Pluto\n",
      "two = 2\n",
      "three = 3\n",
      "eleven = 11\n"
     ]
    }
   ],
   "source": [
    "for k in numbers:\n",
    "    print(\"{} = {}\".format(k, numbers[k]))"
   ]
  },
  {
   "cell_type": "markdown",
   "id": "e145ecb0",
   "metadata": {
    "papermill": {
     "duration": 0.056221,
     "end_time": "2021-11-11T14:28:24.844433",
     "exception": false,
     "start_time": "2021-11-11T14:28:24.788212",
     "status": "completed"
    },
    "tags": []
   },
   "source": [
    "We can access a collection of all the keys or all the values with `dict.keys()` and `dict.values()`, respectively."
   ]
  },
  {
   "cell_type": "code",
   "execution_count": 36,
   "id": "1c2e7cf6",
   "metadata": {
    "execution": {
     "iopub.execute_input": "2021-11-11T14:28:24.965002Z",
     "iopub.status.busy": "2021-11-11T14:28:24.964069Z",
     "iopub.status.idle": "2021-11-11T14:28:24.966905Z",
     "shell.execute_reply": "2021-11-11T14:28:24.967411Z"
    },
    "papermill": {
     "duration": 0.065891,
     "end_time": "2021-11-11T14:28:24.967582",
     "exception": false,
     "start_time": "2021-11-11T14:28:24.901691",
     "status": "completed"
    },
    "tags": []
   },
   "outputs": [
    {
     "data": {
      "text/plain": [
       "'E J M M N S U V'"
      ]
     },
     "execution_count": 36,
     "metadata": {},
     "output_type": "execute_result"
    }
   ],
   "source": [
    "# Get all the initials, sort them alphabetically, and put them in a space-separated string.\n",
    "' '.join(sorted(planet_to_initial.values()))"
   ]
  },
  {
   "cell_type": "markdown",
   "id": "a4969767",
   "metadata": {
    "papermill": {
     "duration": 0.057136,
     "end_time": "2021-11-11T14:28:25.081976",
     "exception": false,
     "start_time": "2021-11-11T14:28:25.024840",
     "status": "completed"
    },
    "tags": []
   },
   "source": [
    "The very useful `dict.items()` method lets us iterate over the keys and values of a dictionary simultaneously. (In Python jargon, an **item** refers to a key, value pair)"
   ]
  },
  {
   "cell_type": "code",
   "execution_count": 37,
   "id": "871bfe45",
   "metadata": {
    "execution": {
     "iopub.execute_input": "2021-11-11T14:28:25.198502Z",
     "iopub.status.busy": "2021-11-11T14:28:25.197865Z",
     "iopub.status.idle": "2021-11-11T14:28:25.204147Z",
     "shell.execute_reply": "2021-11-11T14:28:25.203564Z"
    },
    "papermill": {
     "duration": 0.065589,
     "end_time": "2021-11-11T14:28:25.204339",
     "exception": false,
     "start_time": "2021-11-11T14:28:25.138750",
     "status": "completed"
    },
    "tags": []
   },
   "outputs": [
    {
     "name": "stdout",
     "output_type": "stream",
     "text": [
      "   Mercury begins with \"M\"\n",
      "     Venus begins with \"V\"\n",
      "     Earth begins with \"E\"\n",
      "      Mars begins with \"M\"\n",
      "   Jupiter begins with \"J\"\n",
      "    Saturn begins with \"S\"\n",
      "    Uranus begins with \"U\"\n",
      "   Neptune begins with \"N\"\n"
     ]
    }
   ],
   "source": [
    "for planet, initial in planet_to_initial.items():\n",
    "    print(\"{} begins with \\\"{}\\\"\".format(planet.rjust(10), initial))"
   ]
  },
  {
   "cell_type": "markdown",
   "id": "c936a197",
   "metadata": {
    "papermill": {
     "duration": 0.05677,
     "end_time": "2021-11-11T14:28:25.318424",
     "exception": false,
     "start_time": "2021-11-11T14:28:25.261654",
     "status": "completed"
    },
    "tags": []
   },
   "source": [
    "To read a full inventory of dictionaries' methods, click the \"output\" button below to read the full help page, or check out the [official online documentation](https://docs.python.org/3/library/stdtypes.html#dict)."
   ]
  },
  {
   "cell_type": "code",
   "execution_count": 38,
   "id": "31cc7c5c",
   "metadata": {
    "_kg_hide-output": true,
    "collapsed": true,
    "execution": {
     "iopub.execute_input": "2021-11-11T14:28:25.446421Z",
     "iopub.status.busy": "2021-11-11T14:28:25.445174Z",
     "iopub.status.idle": "2021-11-11T14:28:25.453370Z",
     "shell.execute_reply": "2021-11-11T14:28:25.453872Z"
    },
    "jupyter": {
     "outputs_hidden": true
    },
    "papermill": {
     "duration": 0.077807,
     "end_time": "2021-11-11T14:28:25.454060",
     "exception": false,
     "start_time": "2021-11-11T14:28:25.376253",
     "status": "completed"
    },
    "tags": []
   },
   "outputs": [
    {
     "name": "stdout",
     "output_type": "stream",
     "text": [
      "Help on class dict in module builtins:\n",
      "\n",
      "class dict(object)\n",
      " |  dict() -> new empty dictionary\n",
      " |  dict(mapping) -> new dictionary initialized from a mapping object's\n",
      " |      (key, value) pairs\n",
      " |  dict(iterable) -> new dictionary initialized as if via:\n",
      " |      d = {}\n",
      " |      for k, v in iterable:\n",
      " |          d[k] = v\n",
      " |  dict(**kwargs) -> new dictionary initialized with the name=value pairs\n",
      " |      in the keyword argument list.  For example:  dict(one=1, two=2)\n",
      " |  \n",
      " |  Methods defined here:\n",
      " |  \n",
      " |  __contains__(self, key, /)\n",
      " |      True if the dictionary has the specified key, else False.\n",
      " |  \n",
      " |  __delitem__(self, key, /)\n",
      " |      Delete self[key].\n",
      " |  \n",
      " |  __eq__(self, value, /)\n",
      " |      Return self==value.\n",
      " |  \n",
      " |  __ge__(self, value, /)\n",
      " |      Return self>=value.\n",
      " |  \n",
      " |  __getattribute__(self, name, /)\n",
      " |      Return getattr(self, name).\n",
      " |  \n",
      " |  __getitem__(...)\n",
      " |      x.__getitem__(y) <==> x[y]\n",
      " |  \n",
      " |  __gt__(self, value, /)\n",
      " |      Return self>value.\n",
      " |  \n",
      " |  __init__(self, /, *args, **kwargs)\n",
      " |      Initialize self.  See help(type(self)) for accurate signature.\n",
      " |  \n",
      " |  __iter__(self, /)\n",
      " |      Implement iter(self).\n",
      " |  \n",
      " |  __le__(self, value, /)\n",
      " |      Return self<=value.\n",
      " |  \n",
      " |  __len__(self, /)\n",
      " |      Return len(self).\n",
      " |  \n",
      " |  __lt__(self, value, /)\n",
      " |      Return self<value.\n",
      " |  \n",
      " |  __ne__(self, value, /)\n",
      " |      Return self!=value.\n",
      " |  \n",
      " |  __repr__(self, /)\n",
      " |      Return repr(self).\n",
      " |  \n",
      " |  __setitem__(self, key, value, /)\n",
      " |      Set self[key] to value.\n",
      " |  \n",
      " |  __sizeof__(...)\n",
      " |      D.__sizeof__() -> size of D in memory, in bytes\n",
      " |  \n",
      " |  clear(...)\n",
      " |      D.clear() -> None.  Remove all items from D.\n",
      " |  \n",
      " |  copy(...)\n",
      " |      D.copy() -> a shallow copy of D\n",
      " |  \n",
      " |  get(self, key, default=None, /)\n",
      " |      Return the value for key if key is in the dictionary, else default.\n",
      " |  \n",
      " |  items(...)\n",
      " |      D.items() -> a set-like object providing a view on D's items\n",
      " |  \n",
      " |  keys(...)\n",
      " |      D.keys() -> a set-like object providing a view on D's keys\n",
      " |  \n",
      " |  pop(...)\n",
      " |      D.pop(k[,d]) -> v, remove specified key and return the corresponding value.\n",
      " |      If key is not found, d is returned if given, otherwise KeyError is raised\n",
      " |  \n",
      " |  popitem(...)\n",
      " |      D.popitem() -> (k, v), remove and return some (key, value) pair as a\n",
      " |      2-tuple; but raise KeyError if D is empty.\n",
      " |  \n",
      " |  setdefault(self, key, default=None, /)\n",
      " |      Insert key with a value of default if key is not in the dictionary.\n",
      " |      \n",
      " |      Return the value for key if key is in the dictionary, else default.\n",
      " |  \n",
      " |  update(...)\n",
      " |      D.update([E, ]**F) -> None.  Update D from dict/iterable E and F.\n",
      " |      If E is present and has a .keys() method, then does:  for k in E: D[k] = E[k]\n",
      " |      If E is present and lacks a .keys() method, then does:  for k, v in E: D[k] = v\n",
      " |      In either case, this is followed by: for k in F:  D[k] = F[k]\n",
      " |  \n",
      " |  values(...)\n",
      " |      D.values() -> an object providing a view on D's values\n",
      " |  \n",
      " |  ----------------------------------------------------------------------\n",
      " |  Class methods defined here:\n",
      " |  \n",
      " |  fromkeys(iterable, value=None, /) from builtins.type\n",
      " |      Create a new dictionary with keys from iterable and values set to value.\n",
      " |  \n",
      " |  ----------------------------------------------------------------------\n",
      " |  Static methods defined here:\n",
      " |  \n",
      " |  __new__(*args, **kwargs) from builtins.type\n",
      " |      Create and return a new object.  See help(type) for accurate signature.\n",
      " |  \n",
      " |  ----------------------------------------------------------------------\n",
      " |  Data and other attributes defined here:\n",
      " |  \n",
      " |  __hash__ = None\n",
      "\n"
     ]
    }
   ],
   "source": [
    "help(dict)"
   ]
  },
  {
   "cell_type": "markdown",
   "id": "b12c6b71-8d32-44cc-bd51-995babd1e641",
   "metadata": {},
   "source": [
    "# Sets\n",
    "A set object is an **unordered** collection of **distinct** _hashable_ objects. \n",
    "\n",
    "Common uses include membership testing, removing duplicates from a sequence, and computing mathematical operations such as intersection, union, difference, and symmetric difference. "
   ]
  },
  {
   "cell_type": "code",
   "execution_count": 6,
   "id": "3d649e24-7214-40cc-a37a-35418232add2",
   "metadata": {},
   "outputs": [
    {
     "data": {
      "text/plain": [
       "{'apple', 'banana', 'blackberry', 'orange', 'strawberry'}"
      ]
     },
     "execution_count": 6,
     "metadata": {},
     "output_type": "execute_result"
    }
   ],
   "source": [
    "fruits = {'apple', 'banana', 'strawberry', 'orange', 'blackberry'}\n",
    "fruits"
   ]
  },
  {
   "cell_type": "markdown",
   "id": "fbf3a6b8-405b-4249-a652-d05b5fa7600c",
   "metadata": {},
   "source": [
    "Note that the order is not preserved.\n",
    "\n",
    "New elements can be added to the set any time. But the set always contains only one copy of the element."
   ]
  },
  {
   "cell_type": "code",
   "execution_count": 7,
   "id": "85b6cd81-aade-44f0-b254-a2635f93c349",
   "metadata": {},
   "outputs": [
    {
     "name": "stdout",
     "output_type": "stream",
     "text": [
      "{'blackberry', 'banana', 'orange', 'potato', 'strawberry', 'apple'}\n",
      "{'blackberry', 'banana', 'orange', 'potato', 'strawberry', 'apple'}\n"
     ]
    }
   ],
   "source": [
    "fruits.add('potato')\n",
    "print(fruits)\n",
    "fruits.add('potato')\n",
    "print(fruits)"
   ]
  },
  {
   "cell_type": "markdown",
   "id": "b72dac00-de33-41df-b3dd-06dc3bacd883",
   "metadata": {},
   "source": [
    "The already known `in` operator can be used to test if the set contains an element."
   ]
  },
  {
   "cell_type": "code",
   "execution_count": 8,
   "id": "f0e2e047-7d61-4a36-9da5-2890051d16dd",
   "metadata": {},
   "outputs": [
    {
     "name": "stdout",
     "output_type": "stream",
     "text": [
      "True\n",
      "False\n"
     ]
    }
   ],
   "source": [
    "print('potato' in fruits)\n",
    "print('cucumber' in fruits)"
   ]
  },
  {
   "cell_type": "markdown",
   "id": "8ecadb66-6eac-404a-8245-508904443e87",
   "metadata": {},
   "source": [
    "A `for` loop over a set loops over set values. The order is not the insertion defined."
   ]
  },
  {
   "cell_type": "code",
   "execution_count": 10,
   "id": "75c4eac3-90d1-4aaa-94b6-fdafe6b13507",
   "metadata": {},
   "outputs": [
    {
     "name": "stdout",
     "output_type": "stream",
     "text": [
      "blackberry\n",
      "banana\n",
      "orange\n",
      "potato\n",
      "strawberry\n",
      "apple\n"
     ]
    }
   ],
   "source": [
    "for fruit in fruits:\n",
    "    print(fruit)"
   ]
  },
  {
   "cell_type": "markdown",
   "id": "5baa85cb-22d5-419c-97d4-ef43d1b70eaa",
   "metadata": {},
   "source": [
    "Set comprehensions are similar to dictionary comprehensions (and in turn are similar to all other comprehensions)."
   ]
  },
  {
   "cell_type": "code",
   "execution_count": 9,
   "id": "f5e7227e-9504-4785-b64f-8e94fa2e6cb2",
   "metadata": {},
   "outputs": [
    {
     "data": {
      "text/plain": [
       "{'banana', 'blackberry'}"
      ]
     },
     "execution_count": 9,
     "metadata": {},
     "output_type": "execute_result"
    }
   ],
   "source": [
    "b_fruits = {fruit for fruit in fruits if fruit.startswith('b')}\n",
    "b_fruits"
   ]
  },
  {
   "cell_type": "markdown",
   "id": "038ff3fd-a7de-4169-a7de-9303826aad6f",
   "metadata": {},
   "source": [
    "Sets support natural operations like set union, intersection, difference, etc."
   ]
  },
  {
   "cell_type": "code",
   "execution_count": 12,
   "id": "5d1c5824-e628-4181-a0ec-d48328fd49e0",
   "metadata": {},
   "outputs": [],
   "source": [
    "vegetables = {'potato', 'pepper', 'onion', 'cabbage'}"
   ]
  },
  {
   "cell_type": "code",
   "execution_count": 26,
   "id": "739bfd5e-c49b-45dc-972d-a548024299c5",
   "metadata": {},
   "outputs": [
    {
     "name": "stdout",
     "output_type": "stream",
     "text": [
      "{'blackberry', 'pepper', 'cabbage', 'potato', 'banana', 'orange', 'strawberry', 'apple', 'onion'}\n",
      "{'blackberry', 'pepper', 'cabbage', 'potato', 'banana', 'orange', 'strawberry', 'apple', 'onion'}\n"
     ]
    }
   ],
   "source": [
    "print(fruits.union(vegetables))\n",
    "print(fruits | vegetables)"
   ]
  },
  {
   "cell_type": "code",
   "execution_count": 16,
   "id": "bc42d9f8-41e1-432a-83cf-3e92c17d44ca",
   "metadata": {},
   "outputs": [
    {
     "name": "stdout",
     "output_type": "stream",
     "text": [
      "{'potato'}\n",
      "{'potato'}\n"
     ]
    }
   ],
   "source": [
    "print(fruits.intersection(vegetables))\n",
    "print(fruits & vegetables)"
   ]
  },
  {
   "cell_type": "code",
   "execution_count": 17,
   "id": "d63626fa-947c-4180-b674-0cb8615611e5",
   "metadata": {},
   "outputs": [
    {
     "name": "stdout",
     "output_type": "stream",
     "text": [
      "{'blackberry', 'banana', 'orange', 'strawberry', 'apple'}\n",
      "{'blackberry', 'banana', 'orange', 'strawberry', 'apple'}\n"
     ]
    }
   ],
   "source": [
    "print(fruits.difference(vegetables))\n",
    "print(fruits - vegetables)"
   ]
  },
  {
   "cell_type": "code",
   "execution_count": 18,
   "id": "e3b5c053-bce6-48fa-9f5f-99a84aba661e",
   "metadata": {},
   "outputs": [
    {
     "name": "stdout",
     "output_type": "stream",
     "text": [
      "{'pepper', 'cabbage', 'blackberry', 'banana', 'orange', 'strawberry', 'onion', 'apple'}\n",
      "{'pepper', 'cabbage', 'blackberry', 'banana', 'orange', 'strawberry', 'onion', 'apple'}\n"
     ]
    }
   ],
   "source": [
    "print(fruits.symmetric_difference(vegetables))\n",
    "print(fruits ^ vegetables)"
   ]
  },
  {
   "cell_type": "code",
   "execution_count": 20,
   "id": "ec2c60b4-2e65-426c-97bd-24874d3df0d5",
   "metadata": {},
   "outputs": [
    {
     "name": "stdout",
     "output_type": "stream",
     "text": [
      "True\n",
      "set()\n"
     ]
    }
   ],
   "source": [
    "print(b_fruits.isdisjoint(vegetables))\n",
    "print(b_fruits & vegetables)"
   ]
  },
  {
   "cell_type": "code",
   "execution_count": 23,
   "id": "f04d4ceb-26e9-474d-820a-db6c71d31dc4",
   "metadata": {},
   "outputs": [
    {
     "name": "stdout",
     "output_type": "stream",
     "text": [
      "True\n",
      "True\n"
     ]
    }
   ],
   "source": [
    "print(b_fruits.issubset(fruits))\n",
    "print(b_fruits < fruits)"
   ]
  },
  {
   "cell_type": "code",
   "execution_count": 25,
   "id": "09c879c5-5ffa-4346-b83f-e98ec22fc231",
   "metadata": {},
   "outputs": [
    {
     "name": "stdout",
     "output_type": "stream",
     "text": [
      "True\n",
      "True\n"
     ]
    }
   ],
   "source": [
    "print(fruits.issuperset(b_fruits))\n",
    "print(fruits > b_fruits)"
   ]
  },
  {
   "cell_type": "code",
   "execution_count": 11,
   "id": "312e7f29-a8d5-48c5-9832-35dd091ae8a0",
   "metadata": {
    "collapsed": true,
    "jupyter": {
     "outputs_hidden": true
    },
    "tags": []
   },
   "outputs": [
    {
     "name": "stdout",
     "output_type": "stream",
     "text": [
      "Help on class set in module builtins:\n",
      "\n",
      "class set(object)\n",
      " |  set() -> new empty set object\n",
      " |  set(iterable) -> new set object\n",
      " |  \n",
      " |  Build an unordered collection of unique elements.\n",
      " |  \n",
      " |  Methods defined here:\n",
      " |  \n",
      " |  __and__(self, value, /)\n",
      " |      Return self&value.\n",
      " |  \n",
      " |  __contains__(...)\n",
      " |      x.__contains__(y) <==> y in x.\n",
      " |  \n",
      " |  __eq__(self, value, /)\n",
      " |      Return self==value.\n",
      " |  \n",
      " |  __ge__(self, value, /)\n",
      " |      Return self>=value.\n",
      " |  \n",
      " |  __getattribute__(self, name, /)\n",
      " |      Return getattr(self, name).\n",
      " |  \n",
      " |  __gt__(self, value, /)\n",
      " |      Return self>value.\n",
      " |  \n",
      " |  __iand__(self, value, /)\n",
      " |      Return self&=value.\n",
      " |  \n",
      " |  __init__(self, /, *args, **kwargs)\n",
      " |      Initialize self.  See help(type(self)) for accurate signature.\n",
      " |  \n",
      " |  __ior__(self, value, /)\n",
      " |      Return self|=value.\n",
      " |  \n",
      " |  __isub__(self, value, /)\n",
      " |      Return self-=value.\n",
      " |  \n",
      " |  __iter__(self, /)\n",
      " |      Implement iter(self).\n",
      " |  \n",
      " |  __ixor__(self, value, /)\n",
      " |      Return self^=value.\n",
      " |  \n",
      " |  __le__(self, value, /)\n",
      " |      Return self<=value.\n",
      " |  \n",
      " |  __len__(self, /)\n",
      " |      Return len(self).\n",
      " |  \n",
      " |  __lt__(self, value, /)\n",
      " |      Return self<value.\n",
      " |  \n",
      " |  __ne__(self, value, /)\n",
      " |      Return self!=value.\n",
      " |  \n",
      " |  __or__(self, value, /)\n",
      " |      Return self|value.\n",
      " |  \n",
      " |  __rand__(self, value, /)\n",
      " |      Return value&self.\n",
      " |  \n",
      " |  __reduce__(...)\n",
      " |      Return state information for pickling.\n",
      " |  \n",
      " |  __repr__(self, /)\n",
      " |      Return repr(self).\n",
      " |  \n",
      " |  __ror__(self, value, /)\n",
      " |      Return value|self.\n",
      " |  \n",
      " |  __rsub__(self, value, /)\n",
      " |      Return value-self.\n",
      " |  \n",
      " |  __rxor__(self, value, /)\n",
      " |      Return value^self.\n",
      " |  \n",
      " |  __sizeof__(...)\n",
      " |      S.__sizeof__() -> size of S in memory, in bytes\n",
      " |  \n",
      " |  __sub__(self, value, /)\n",
      " |      Return self-value.\n",
      " |  \n",
      " |  __xor__(self, value, /)\n",
      " |      Return self^value.\n",
      " |  \n",
      " |  add(...)\n",
      " |      Add an element to a set.\n",
      " |      \n",
      " |      This has no effect if the element is already present.\n",
      " |  \n",
      " |  clear(...)\n",
      " |      Remove all elements from this set.\n",
      " |  \n",
      " |  copy(...)\n",
      " |      Return a shallow copy of a set.\n",
      " |  \n",
      " |  difference(...)\n",
      " |      Return the difference of two or more sets as a new set.\n",
      " |      \n",
      " |      (i.e. all elements that are in this set but not the others.)\n",
      " |  \n",
      " |  difference_update(...)\n",
      " |      Remove all elements of another set from this set.\n",
      " |  \n",
      " |  discard(...)\n",
      " |      Remove an element from a set if it is a member.\n",
      " |      \n",
      " |      If the element is not a member, do nothing.\n",
      " |  \n",
      " |  intersection(...)\n",
      " |      Return the intersection of two sets as a new set.\n",
      " |      \n",
      " |      (i.e. all elements that are in both sets.)\n",
      " |  \n",
      " |  intersection_update(...)\n",
      " |      Update a set with the intersection of itself and another.\n",
      " |  \n",
      " |  isdisjoint(...)\n",
      " |      Return True if two sets have a null intersection.\n",
      " |  \n",
      " |  issubset(...)\n",
      " |      Report whether another set contains this set.\n",
      " |  \n",
      " |  issuperset(...)\n",
      " |      Report whether this set contains another set.\n",
      " |  \n",
      " |  pop(...)\n",
      " |      Remove and return an arbitrary set element.\n",
      " |      Raises KeyError if the set is empty.\n",
      " |  \n",
      " |  remove(...)\n",
      " |      Remove an element from a set; it must be a member.\n",
      " |      \n",
      " |      If the element is not a member, raise a KeyError.\n",
      " |  \n",
      " |  symmetric_difference(...)\n",
      " |      Return the symmetric difference of two sets as a new set.\n",
      " |      \n",
      " |      (i.e. all elements that are in exactly one of the sets.)\n",
      " |  \n",
      " |  symmetric_difference_update(...)\n",
      " |      Update a set with the symmetric difference of itself and another.\n",
      " |  \n",
      " |  union(...)\n",
      " |      Return the union of sets as a new set.\n",
      " |      \n",
      " |      (i.e. all elements that are in either set.)\n",
      " |  \n",
      " |  update(...)\n",
      " |      Update a set with the union of itself and others.\n",
      " |  \n",
      " |  ----------------------------------------------------------------------\n",
      " |  Static methods defined here:\n",
      " |  \n",
      " |  __new__(*args, **kwargs) from builtins.type\n",
      " |      Create and return a new object.  See help(type) for accurate signature.\n",
      " |  \n",
      " |  ----------------------------------------------------------------------\n",
      " |  Data and other attributes defined here:\n",
      " |  \n",
      " |  __hash__ = None\n",
      "\n"
     ]
    }
   ],
   "source": [
    "help(set)"
   ]
  },
  {
   "cell_type": "markdown",
   "id": "709b77e1",
   "metadata": {
    "papermill": {
     "duration": 0.060281,
     "end_time": "2021-11-11T14:28:25.573397",
     "exception": false,
     "start_time": "2021-11-11T14:28:25.513116",
     "status": "completed"
    },
    "tags": []
   },
   "source": [
    "# Your Turn\n",
    "\n",
    "You've learned a lot of Python... go **[demonstrate your new skills](https://www.kaggle.com/kernels/fork/1275185)** with some realistic programming applications."
   ]
  },
  {
   "cell_type": "markdown",
   "id": "c7e0b97a",
   "metadata": {
    "papermill": {
     "duration": 0.058144,
     "end_time": "2021-11-11T14:28:25.689926",
     "exception": false,
     "start_time": "2021-11-11T14:28:25.631782",
     "status": "completed"
    },
    "tags": []
   },
   "source": [
    "---\n",
    "\n",
    "\n",
    "\n",
    "\n",
    "*Have questions or comments? Visit the [course discussion forum](https://www.kaggle.com/learn/python/discussion) to chat with other learners.*"
   ]
  }
 ],
 "metadata": {
  "anaconda-cloud": {},
  "kernelspec": {
   "display_name": "Python 3",
   "language": "python",
   "name": "python3"
  },
  "language_info": {
   "codemirror_mode": {
    "name": "ipython",
    "version": 3
   },
   "file_extension": ".py",
   "mimetype": "text/x-python",
   "name": "python",
   "nbconvert_exporter": "python",
   "pygments_lexer": "ipython3",
   "version": "3.8.9"
  },
  "learntools_metadata": {
   "lesson_index": 5,
   "type": "tutorial"
  },
  "papermill": {
   "default_parameters": {},
   "duration": 17.718189,
   "end_time": "2021-11-11T14:28:26.357709",
   "environment_variables": {},
   "exception": null,
   "input_path": "__notebook__.ipynb",
   "output_path": "__notebook__.ipynb",
   "parameters": {},
   "start_time": "2021-11-11T14:28:08.639520",
   "version": "2.3.3"
  }
 },
 "nbformat": 4,
 "nbformat_minor": 5
}
